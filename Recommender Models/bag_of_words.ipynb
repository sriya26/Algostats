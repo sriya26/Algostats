{
  "nbformat": 4,
  "nbformat_minor": 0,
  "metadata": {
    "colab": {
      "name": "bag of words.ipynb",
      "provenance": []
    },
    "kernelspec": {
      "name": "python3",
      "display_name": "Python 3"
    },
    "language_info": {
      "name": "python"
    }
  },
  "cells": [
    {
      "cell_type": "code",
      "execution_count": null,
      "metadata": {
        "id": "In9b0KnyQOPw"
      },
      "outputs": [],
      "source": [
        "import ast\n",
        "import sklearn as sk\n",
        "import numpy as np\n",
        "import pandas as pd\n",
        "import csv\n",
        "import time"
      ]
    },
    {
      "cell_type": "code",
      "source": [
        "from google.colab import drive\n",
        "drive.mount('/content/drive')"
      ],
      "metadata": {
        "colab": {
          "base_uri": "https://localhost:8080/"
        },
        "id": "ovDzUKAqQPxT",
        "outputId": "cc244aee-bc2f-4d4d-a3c9-c2cc10216f69"
      },
      "execution_count": null,
      "outputs": [
        {
          "output_type": "stream",
          "name": "stdout",
          "text": [
            "Mounted at /content/drive\n"
          ]
        }
      ]
    },
    {
      "cell_type": "code",
      "source": [
        "movies = pd.read_csv('/content/drive/MyDrive/Datasets/small_dataset.csv')"
      ],
      "metadata": {
        "id": "64n7H-hhQUEm"
      },
      "execution_count": null,
      "outputs": []
    },
    {
      "cell_type": "code",
      "source": [
        "movies.head(10)"
      ],
      "metadata": {
        "colab": {
          "base_uri": "https://localhost:8080/",
          "height": 1000
        },
        "id": "b-NfolPuQhkc",
        "outputId": "3dfd7184-a7f9-49aa-9b9b-e70ce2f0b413"
      },
      "execution_count": null,
      "outputs": [
        {
          "output_type": "execute_result",
          "data": {
            "text/plain": [
              "   adult                              belongs_to_collection    budget  \\\n",
              "0  FALSE  {'id': 256377, 'name': 'The Muppet Collection'...         0   \n",
              "1  FALSE                                                NaN         0   \n",
              "2  FALSE                                                NaN         0   \n",
              "3  FALSE                                                NaN  72000000   \n",
              "4  FALSE                                                NaN   1300000   \n",
              "5  FALSE                                                NaN   7500000   \n",
              "6  FALSE                                                NaN  35000000   \n",
              "7  FALSE                                                NaN         0   \n",
              "8  FALSE                                                NaN  13365000   \n",
              "9  FALSE                                                NaN         0   \n",
              "\n",
              "                                              genres     id    imdb_id  \\\n",
              "0  [{'id': 28, 'name': 'Action'}, {'id': 35, 'nam...  10874  tt0117110   \n",
              "1                [{'id': 99, 'name': 'Documentary'}]  89333  tt0112646   \n",
              "2                      [{'id': 80, 'name': 'Crime'}]  96357  tt0113276   \n",
              "3  [{'id': 28, 'name': 'Action'}, {'id': 18, 'nam...    197  tt0112573   \n",
              "4  [{'id': 80, 'name': 'Crime'}, {'id': 18, 'name...    103  tt0075314   \n",
              "5  [{'id': 80, 'name': 'Crime'}, {'id': 28, 'name...  33542  tt0113326   \n",
              "6  [{'id': 18, 'name': 'Drama'}, {'id': 53, 'name...  43566  tt0115645   \n",
              "7                      [{'id': 18, 'name': 'Drama'}]  71754  tt0113774   \n",
              "8                     [{'id': 35, 'name': 'Comedy'}]  43612  tt0112556   \n",
              "9  [{'id': 99, 'name': 'Documentary'}, {'id': 18,...  51352  tt0112373   \n",
              "\n",
              "  original_language                original_title  \\\n",
              "0                en        Muppet Treasure Island   \n",
              "1                en                       Catwalk   \n",
              "2                en  Headless Body in Topless Bar   \n",
              "3                en                    Braveheart   \n",
              "4                en                   Taxi Driver   \n",
              "5                cn                     ç´…ç•ªå€   \n",
              "6                en              Before and After   \n",
              "7                en             Margaret's Museum   \n",
              "8                en   Le Bonheur est dans le prÃ©   \n",
              "9                en         Anne Frank Remembered   \n",
              "\n",
              "                                            overview  popularity  ...  \\\n",
              "0  After telling the story of Flint's last journe...    6.902423  ...   \n",
              "1  A documentary following Christy Turlington and...    0.976707  ...   \n",
              "2  An ex-con holds a group of people hostage in a...    0.001346  ...   \n",
              "3  Enraged at the slaughter of Murron, his new br...   20.755149  ...   \n",
              "4  A mentally unstable Vietnam War veteran works ...   14.092713  ...   \n",
              "5  Keong comes from Hong Kong to visit New York f...   12.314278  ...   \n",
              "6  Two parents deal with the effects when their s...    2.938293  ...   \n",
              "7  In a town where half the men die down the coal...    0.372697  ...   \n",
              "8  Francis, the boss of a small plumbing supply c...    1.254885  ...   \n",
              "9  Using previously unreleased archival material ...    0.243986  ...   \n",
              "\n",
              "  release_date      revenue runtime  \\\n",
              "0   16-02-1996   34327391.0   100.0   \n",
              "1   08-12-1995          0.0    95.0   \n",
              "2   20-05-1995          0.0   110.0   \n",
              "3   24-05-1995  210000000.0   177.0   \n",
              "4   07-02-1976   28262574.0   114.0   \n",
              "5   30-01-1995   32392047.0    91.0   \n",
              "6   23-02-1996          0.0   108.0   \n",
              "7   13-09-1995          0.0   114.0   \n",
              "8   31-01-1995          0.0   106.0   \n",
              "9   08-06-1995          1.0   117.0   \n",
              "\n",
              "                                    spoken_languages    status  \\\n",
              "0           [{'iso_639_1': 'en', 'name': 'English'}]  Released   \n",
              "1           [{'iso_639_1': 'en', 'name': 'English'}]  Released   \n",
              "2                                                 []  Released   \n",
              "3  [{'iso_639_1': 'en', 'name': 'English'}, {'iso...  Released   \n",
              "4  [{'iso_639_1': 'en', 'name': 'English'}, {'iso...  Released   \n",
              "5  [{'iso_639_1': 'cn', 'name': 'å¹¿å·žè¯ / å»£å...  Released   \n",
              "6  [{'iso_639_1': 'en', 'name': 'English'}, {'iso...  Released   \n",
              "7           [{'iso_639_1': 'en', 'name': 'English'}]  Released   \n",
              "8         [{'iso_639_1': 'fr', 'name': 'FranÃ§ais'}]  Released   \n",
              "9           [{'iso_639_1': 'en', 'name': 'English'}]  Released   \n",
              "\n",
              "                                             tagline  \\\n",
              "0                        Set sail for Muppet mayhem!   \n",
              "1  The moment when fashion, art and entertainment...   \n",
              "2                                                NaN   \n",
              "3         Every man dies. Not every man truly lives.   \n",
              "4  On every street in every city, there's a nobod...   \n",
              "5                    No Fear. No Stuntman. No Equal.   \n",
              "6          A murder. A suspect. A shadow of a doubt.   \n",
              "7  She found a way to preserve her memories forever.   \n",
              "8                                                NaN   \n",
              "9  She is perhaps Hitler's best known victim, but...   \n",
              "\n",
              "                          title  video vote_average vote_count  \n",
              "0        Muppet Treasure Island  False          6.5       93.0  \n",
              "1                       Catwalk  False          7.0        2.0  \n",
              "2  Headless Body in Topless Bar  False          0.0        0.0  \n",
              "3                    Braveheart  False          7.7     3404.0  \n",
              "4                   Taxi Driver  False          8.1     2632.0  \n",
              "5           Rumble in the Bronx  False          6.5      245.0  \n",
              "6              Before and After  False          5.8       37.0  \n",
              "7             Margaret's Museum  False          7.5        2.0  \n",
              "8     Happiness Is in the Field  False          7.0       23.0  \n",
              "9         Anne Frank Remembered  False          7.3        4.0  \n",
              "\n",
              "[10 rows x 23 columns]"
            ],
            "text/html": [
              "\n",
              "  <div id=\"df-c44aadf3-13a2-453f-94e5-60fffbfc778b\">\n",
              "    <div class=\"colab-df-container\">\n",
              "      <div>\n",
              "<style scoped>\n",
              "    .dataframe tbody tr th:only-of-type {\n",
              "        vertical-align: middle;\n",
              "    }\n",
              "\n",
              "    .dataframe tbody tr th {\n",
              "        vertical-align: top;\n",
              "    }\n",
              "\n",
              "    .dataframe thead th {\n",
              "        text-align: right;\n",
              "    }\n",
              "</style>\n",
              "<table border=\"1\" class=\"dataframe\">\n",
              "  <thead>\n",
              "    <tr style=\"text-align: right;\">\n",
              "      <th></th>\n",
              "      <th>adult</th>\n",
              "      <th>belongs_to_collection</th>\n",
              "      <th>budget</th>\n",
              "      <th>genres</th>\n",
              "      <th>id</th>\n",
              "      <th>imdb_id</th>\n",
              "      <th>original_language</th>\n",
              "      <th>original_title</th>\n",
              "      <th>overview</th>\n",
              "      <th>popularity</th>\n",
              "      <th>...</th>\n",
              "      <th>release_date</th>\n",
              "      <th>revenue</th>\n",
              "      <th>runtime</th>\n",
              "      <th>spoken_languages</th>\n",
              "      <th>status</th>\n",
              "      <th>tagline</th>\n",
              "      <th>title</th>\n",
              "      <th>video</th>\n",
              "      <th>vote_average</th>\n",
              "      <th>vote_count</th>\n",
              "    </tr>\n",
              "  </thead>\n",
              "  <tbody>\n",
              "    <tr>\n",
              "      <th>0</th>\n",
              "      <td>FALSE</td>\n",
              "      <td>{'id': 256377, 'name': 'The Muppet Collection'...</td>\n",
              "      <td>0</td>\n",
              "      <td>[{'id': 28, 'name': 'Action'}, {'id': 35, 'nam...</td>\n",
              "      <td>10874</td>\n",
              "      <td>tt0117110</td>\n",
              "      <td>en</td>\n",
              "      <td>Muppet Treasure Island</td>\n",
              "      <td>After telling the story of Flint's last journe...</td>\n",
              "      <td>6.902423</td>\n",
              "      <td>...</td>\n",
              "      <td>16-02-1996</td>\n",
              "      <td>34327391.0</td>\n",
              "      <td>100.0</td>\n",
              "      <td>[{'iso_639_1': 'en', 'name': 'English'}]</td>\n",
              "      <td>Released</td>\n",
              "      <td>Set sail for Muppet mayhem!</td>\n",
              "      <td>Muppet Treasure Island</td>\n",
              "      <td>False</td>\n",
              "      <td>6.5</td>\n",
              "      <td>93.0</td>\n",
              "    </tr>\n",
              "    <tr>\n",
              "      <th>1</th>\n",
              "      <td>FALSE</td>\n",
              "      <td>NaN</td>\n",
              "      <td>0</td>\n",
              "      <td>[{'id': 99, 'name': 'Documentary'}]</td>\n",
              "      <td>89333</td>\n",
              "      <td>tt0112646</td>\n",
              "      <td>en</td>\n",
              "      <td>Catwalk</td>\n",
              "      <td>A documentary following Christy Turlington and...</td>\n",
              "      <td>0.976707</td>\n",
              "      <td>...</td>\n",
              "      <td>08-12-1995</td>\n",
              "      <td>0.0</td>\n",
              "      <td>95.0</td>\n",
              "      <td>[{'iso_639_1': 'en', 'name': 'English'}]</td>\n",
              "      <td>Released</td>\n",
              "      <td>The moment when fashion, art and entertainment...</td>\n",
              "      <td>Catwalk</td>\n",
              "      <td>False</td>\n",
              "      <td>7.0</td>\n",
              "      <td>2.0</td>\n",
              "    </tr>\n",
              "    <tr>\n",
              "      <th>2</th>\n",
              "      <td>FALSE</td>\n",
              "      <td>NaN</td>\n",
              "      <td>0</td>\n",
              "      <td>[{'id': 80, 'name': 'Crime'}]</td>\n",
              "      <td>96357</td>\n",
              "      <td>tt0113276</td>\n",
              "      <td>en</td>\n",
              "      <td>Headless Body in Topless Bar</td>\n",
              "      <td>An ex-con holds a group of people hostage in a...</td>\n",
              "      <td>0.001346</td>\n",
              "      <td>...</td>\n",
              "      <td>20-05-1995</td>\n",
              "      <td>0.0</td>\n",
              "      <td>110.0</td>\n",
              "      <td>[]</td>\n",
              "      <td>Released</td>\n",
              "      <td>NaN</td>\n",
              "      <td>Headless Body in Topless Bar</td>\n",
              "      <td>False</td>\n",
              "      <td>0.0</td>\n",
              "      <td>0.0</td>\n",
              "    </tr>\n",
              "    <tr>\n",
              "      <th>3</th>\n",
              "      <td>FALSE</td>\n",
              "      <td>NaN</td>\n",
              "      <td>72000000</td>\n",
              "      <td>[{'id': 28, 'name': 'Action'}, {'id': 18, 'nam...</td>\n",
              "      <td>197</td>\n",
              "      <td>tt0112573</td>\n",
              "      <td>en</td>\n",
              "      <td>Braveheart</td>\n",
              "      <td>Enraged at the slaughter of Murron, his new br...</td>\n",
              "      <td>20.755149</td>\n",
              "      <td>...</td>\n",
              "      <td>24-05-1995</td>\n",
              "      <td>210000000.0</td>\n",
              "      <td>177.0</td>\n",
              "      <td>[{'iso_639_1': 'en', 'name': 'English'}, {'iso...</td>\n",
              "      <td>Released</td>\n",
              "      <td>Every man dies. Not every man truly lives.</td>\n",
              "      <td>Braveheart</td>\n",
              "      <td>False</td>\n",
              "      <td>7.7</td>\n",
              "      <td>3404.0</td>\n",
              "    </tr>\n",
              "    <tr>\n",
              "      <th>4</th>\n",
              "      <td>FALSE</td>\n",
              "      <td>NaN</td>\n",
              "      <td>1300000</td>\n",
              "      <td>[{'id': 80, 'name': 'Crime'}, {'id': 18, 'name...</td>\n",
              "      <td>103</td>\n",
              "      <td>tt0075314</td>\n",
              "      <td>en</td>\n",
              "      <td>Taxi Driver</td>\n",
              "      <td>A mentally unstable Vietnam War veteran works ...</td>\n",
              "      <td>14.092713</td>\n",
              "      <td>...</td>\n",
              "      <td>07-02-1976</td>\n",
              "      <td>28262574.0</td>\n",
              "      <td>114.0</td>\n",
              "      <td>[{'iso_639_1': 'en', 'name': 'English'}, {'iso...</td>\n",
              "      <td>Released</td>\n",
              "      <td>On every street in every city, there's a nobod...</td>\n",
              "      <td>Taxi Driver</td>\n",
              "      <td>False</td>\n",
              "      <td>8.1</td>\n",
              "      <td>2632.0</td>\n",
              "    </tr>\n",
              "    <tr>\n",
              "      <th>5</th>\n",
              "      <td>FALSE</td>\n",
              "      <td>NaN</td>\n",
              "      <td>7500000</td>\n",
              "      <td>[{'id': 80, 'name': 'Crime'}, {'id': 28, 'name...</td>\n",
              "      <td>33542</td>\n",
              "      <td>tt0113326</td>\n",
              "      <td>cn</td>\n",
              "      <td>ç´…ç•ªå€</td>\n",
              "      <td>Keong comes from Hong Kong to visit New York f...</td>\n",
              "      <td>12.314278</td>\n",
              "      <td>...</td>\n",
              "      <td>30-01-1995</td>\n",
              "      <td>32392047.0</td>\n",
              "      <td>91.0</td>\n",
              "      <td>[{'iso_639_1': 'cn', 'name': 'å¹¿å·žè¯ / å»£å...</td>\n",
              "      <td>Released</td>\n",
              "      <td>No Fear. No Stuntman. No Equal.</td>\n",
              "      <td>Rumble in the Bronx</td>\n",
              "      <td>False</td>\n",
              "      <td>6.5</td>\n",
              "      <td>245.0</td>\n",
              "    </tr>\n",
              "    <tr>\n",
              "      <th>6</th>\n",
              "      <td>FALSE</td>\n",
              "      <td>NaN</td>\n",
              "      <td>35000000</td>\n",
              "      <td>[{'id': 18, 'name': 'Drama'}, {'id': 53, 'name...</td>\n",
              "      <td>43566</td>\n",
              "      <td>tt0115645</td>\n",
              "      <td>en</td>\n",
              "      <td>Before and After</td>\n",
              "      <td>Two parents deal with the effects when their s...</td>\n",
              "      <td>2.938293</td>\n",
              "      <td>...</td>\n",
              "      <td>23-02-1996</td>\n",
              "      <td>0.0</td>\n",
              "      <td>108.0</td>\n",
              "      <td>[{'iso_639_1': 'en', 'name': 'English'}, {'iso...</td>\n",
              "      <td>Released</td>\n",
              "      <td>A murder. A suspect. A shadow of a doubt.</td>\n",
              "      <td>Before and After</td>\n",
              "      <td>False</td>\n",
              "      <td>5.8</td>\n",
              "      <td>37.0</td>\n",
              "    </tr>\n",
              "    <tr>\n",
              "      <th>7</th>\n",
              "      <td>FALSE</td>\n",
              "      <td>NaN</td>\n",
              "      <td>0</td>\n",
              "      <td>[{'id': 18, 'name': 'Drama'}]</td>\n",
              "      <td>71754</td>\n",
              "      <td>tt0113774</td>\n",
              "      <td>en</td>\n",
              "      <td>Margaret's Museum</td>\n",
              "      <td>In a town where half the men die down the coal...</td>\n",
              "      <td>0.372697</td>\n",
              "      <td>...</td>\n",
              "      <td>13-09-1995</td>\n",
              "      <td>0.0</td>\n",
              "      <td>114.0</td>\n",
              "      <td>[{'iso_639_1': 'en', 'name': 'English'}]</td>\n",
              "      <td>Released</td>\n",
              "      <td>She found a way to preserve her memories forever.</td>\n",
              "      <td>Margaret's Museum</td>\n",
              "      <td>False</td>\n",
              "      <td>7.5</td>\n",
              "      <td>2.0</td>\n",
              "    </tr>\n",
              "    <tr>\n",
              "      <th>8</th>\n",
              "      <td>FALSE</td>\n",
              "      <td>NaN</td>\n",
              "      <td>13365000</td>\n",
              "      <td>[{'id': 35, 'name': 'Comedy'}]</td>\n",
              "      <td>43612</td>\n",
              "      <td>tt0112556</td>\n",
              "      <td>en</td>\n",
              "      <td>Le Bonheur est dans le prÃ©</td>\n",
              "      <td>Francis, the boss of a small plumbing supply c...</td>\n",
              "      <td>1.254885</td>\n",
              "      <td>...</td>\n",
              "      <td>31-01-1995</td>\n",
              "      <td>0.0</td>\n",
              "      <td>106.0</td>\n",
              "      <td>[{'iso_639_1': 'fr', 'name': 'FranÃ§ais'}]</td>\n",
              "      <td>Released</td>\n",
              "      <td>NaN</td>\n",
              "      <td>Happiness Is in the Field</td>\n",
              "      <td>False</td>\n",
              "      <td>7.0</td>\n",
              "      <td>23.0</td>\n",
              "    </tr>\n",
              "    <tr>\n",
              "      <th>9</th>\n",
              "      <td>FALSE</td>\n",
              "      <td>NaN</td>\n",
              "      <td>0</td>\n",
              "      <td>[{'id': 99, 'name': 'Documentary'}, {'id': 18,...</td>\n",
              "      <td>51352</td>\n",
              "      <td>tt0112373</td>\n",
              "      <td>en</td>\n",
              "      <td>Anne Frank Remembered</td>\n",
              "      <td>Using previously unreleased archival material ...</td>\n",
              "      <td>0.243986</td>\n",
              "      <td>...</td>\n",
              "      <td>08-06-1995</td>\n",
              "      <td>1.0</td>\n",
              "      <td>117.0</td>\n",
              "      <td>[{'iso_639_1': 'en', 'name': 'English'}]</td>\n",
              "      <td>Released</td>\n",
              "      <td>She is perhaps Hitler's best known victim, but...</td>\n",
              "      <td>Anne Frank Remembered</td>\n",
              "      <td>False</td>\n",
              "      <td>7.3</td>\n",
              "      <td>4.0</td>\n",
              "    </tr>\n",
              "  </tbody>\n",
              "</table>\n",
              "<p>10 rows × 23 columns</p>\n",
              "</div>\n",
              "      <button class=\"colab-df-convert\" onclick=\"convertToInteractive('df-c44aadf3-13a2-453f-94e5-60fffbfc778b')\"\n",
              "              title=\"Convert this dataframe to an interactive table.\"\n",
              "              style=\"display:none;\">\n",
              "        \n",
              "  <svg xmlns=\"http://www.w3.org/2000/svg\" height=\"24px\"viewBox=\"0 0 24 24\"\n",
              "       width=\"24px\">\n",
              "    <path d=\"M0 0h24v24H0V0z\" fill=\"none\"/>\n",
              "    <path d=\"M18.56 5.44l.94 2.06.94-2.06 2.06-.94-2.06-.94-.94-2.06-.94 2.06-2.06.94zm-11 1L8.5 8.5l.94-2.06 2.06-.94-2.06-.94L8.5 2.5l-.94 2.06-2.06.94zm10 10l.94 2.06.94-2.06 2.06-.94-2.06-.94-.94-2.06-.94 2.06-2.06.94z\"/><path d=\"M17.41 7.96l-1.37-1.37c-.4-.4-.92-.59-1.43-.59-.52 0-1.04.2-1.43.59L10.3 9.45l-7.72 7.72c-.78.78-.78 2.05 0 2.83L4 21.41c.39.39.9.59 1.41.59.51 0 1.02-.2 1.41-.59l7.78-7.78 2.81-2.81c.8-.78.8-2.07 0-2.86zM5.41 20L4 18.59l7.72-7.72 1.47 1.35L5.41 20z\"/>\n",
              "  </svg>\n",
              "      </button>\n",
              "      \n",
              "  <style>\n",
              "    .colab-df-container {\n",
              "      display:flex;\n",
              "      flex-wrap:wrap;\n",
              "      gap: 12px;\n",
              "    }\n",
              "\n",
              "    .colab-df-convert {\n",
              "      background-color: #E8F0FE;\n",
              "      border: none;\n",
              "      border-radius: 50%;\n",
              "      cursor: pointer;\n",
              "      display: none;\n",
              "      fill: #1967D2;\n",
              "      height: 32px;\n",
              "      padding: 0 0 0 0;\n",
              "      width: 32px;\n",
              "    }\n",
              "\n",
              "    .colab-df-convert:hover {\n",
              "      background-color: #E2EBFA;\n",
              "      box-shadow: 0px 1px 2px rgba(60, 64, 67, 0.3), 0px 1px 3px 1px rgba(60, 64, 67, 0.15);\n",
              "      fill: #174EA6;\n",
              "    }\n",
              "\n",
              "    [theme=dark] .colab-df-convert {\n",
              "      background-color: #3B4455;\n",
              "      fill: #D2E3FC;\n",
              "    }\n",
              "\n",
              "    [theme=dark] .colab-df-convert:hover {\n",
              "      background-color: #434B5C;\n",
              "      box-shadow: 0px 1px 3px 1px rgba(0, 0, 0, 0.15);\n",
              "      filter: drop-shadow(0px 1px 2px rgba(0, 0, 0, 0.3));\n",
              "      fill: #FFFFFF;\n",
              "    }\n",
              "  </style>\n",
              "\n",
              "      <script>\n",
              "        const buttonEl =\n",
              "          document.querySelector('#df-c44aadf3-13a2-453f-94e5-60fffbfc778b button.colab-df-convert');\n",
              "        buttonEl.style.display =\n",
              "          google.colab.kernel.accessAllowed ? 'block' : 'none';\n",
              "\n",
              "        async function convertToInteractive(key) {\n",
              "          const element = document.querySelector('#df-c44aadf3-13a2-453f-94e5-60fffbfc778b');\n",
              "          const dataTable =\n",
              "            await google.colab.kernel.invokeFunction('convertToInteractive',\n",
              "                                                     [key], {});\n",
              "          if (!dataTable) return;\n",
              "\n",
              "          const docLinkHtml = 'Like what you see? Visit the ' +\n",
              "            '<a target=\"_blank\" href=https://colab.research.google.com/notebooks/data_table.ipynb>data table notebook</a>'\n",
              "            + ' to learn more about interactive tables.';\n",
              "          element.innerHTML = '';\n",
              "          dataTable['output_type'] = 'display_data';\n",
              "          await google.colab.output.renderOutput(dataTable, element);\n",
              "          const docLink = document.createElement('div');\n",
              "          docLink.innerHTML = docLinkHtml;\n",
              "          element.appendChild(docLink);\n",
              "        }\n",
              "      </script>\n",
              "    </div>\n",
              "  </div>\n",
              "  "
            ]
          },
          "metadata": {},
          "execution_count": 4
        }
      ]
    },
    {
      "cell_type": "code",
      "source": [
        "movies.info()"
      ],
      "metadata": {
        "colab": {
          "base_uri": "https://localhost:8080/"
        },
        "id": "0EoXRj-FQjVm",
        "outputId": "e5eb2631-f36b-485c-f5a1-68eaf3a92255"
      },
      "execution_count": null,
      "outputs": [
        {
          "output_type": "stream",
          "name": "stdout",
          "text": [
            "<class 'pandas.core.frame.DataFrame'>\n",
            "RangeIndex: 9999 entries, 0 to 9998\n",
            "Data columns (total 23 columns):\n",
            " #   Column                 Non-Null Count  Dtype  \n",
            "---  ------                 --------------  -----  \n",
            " 0   adult                  9999 non-null   object \n",
            " 1   belongs_to_collection  1198 non-null   object \n",
            " 2   budget                 9999 non-null   object \n",
            " 3   genres                 9999 non-null   object \n",
            " 4   id                     9999 non-null   object \n",
            " 5   imdb_id                9994 non-null   object \n",
            " 6   original_language      9995 non-null   object \n",
            " 7   original_title         9999 non-null   object \n",
            " 8   overview               9838 non-null   object \n",
            " 9   popularity             9997 non-null   float64\n",
            " 10  poster_path            9901 non-null   object \n",
            " 11  production_companies   9998 non-null   object \n",
            " 12  production_countries   9998 non-null   object \n",
            " 13  release_date           9973 non-null   object \n",
            " 14  revenue                9997 non-null   float64\n",
            " 15  runtime                9946 non-null   float64\n",
            " 16  spoken_languages       9997 non-null   object \n",
            " 17  status                 9975 non-null   object \n",
            " 18  tagline                5259 non-null   object \n",
            " 19  title                  9997 non-null   object \n",
            " 20  video                  9997 non-null   object \n",
            " 21  vote_average           9997 non-null   float64\n",
            " 22  vote_count             9997 non-null   float64\n",
            "dtypes: float64(5), object(18)\n",
            "memory usage: 1.8+ MB\n"
          ]
        }
      ]
    },
    {
      "cell_type": "code",
      "source": [
        "movies['original_language'].value_counts()"
      ],
      "metadata": {
        "colab": {
          "base_uri": "https://localhost:8080/"
        },
        "id": "yb8x7O-ZQl6s",
        "outputId": "b182f008-d54c-4dfd-80f8-34ed56bdbec0"
      },
      "execution_count": null,
      "outputs": [
        {
          "output_type": "execute_result",
          "data": {
            "text/plain": [
              "en    7569\n",
              "fr     535\n",
              "ja     244\n",
              "de     222\n",
              "it     219\n",
              "      ... \n",
              "qu       1\n",
              "eu       1\n",
              "cy       1\n",
              "kn       1\n",
              "mt       1\n",
              "Name: original_language, Length: 64, dtype: int64"
            ]
          },
          "metadata": {},
          "execution_count": 6
        }
      ]
    },
    {
      "cell_type": "code",
      "source": [
        "movies = movies[[ 'genres','title','original_language', 'id', 'overview', 'popularity', 'production_companies', 'runtime', 'spoken_languages', 'vote_average', 'vote_count']]"
      ],
      "metadata": {
        "id": "DLQIZvqJQns1"
      },
      "execution_count": null,
      "outputs": []
    },
    {
      "cell_type": "code",
      "source": [
        "movies.info()"
      ],
      "metadata": {
        "colab": {
          "base_uri": "https://localhost:8080/"
        },
        "id": "UiGHQC2pQqJp",
        "outputId": "90eff420-67bb-4212-e77f-27908aaaf029"
      },
      "execution_count": null,
      "outputs": [
        {
          "output_type": "stream",
          "name": "stdout",
          "text": [
            "<class 'pandas.core.frame.DataFrame'>\n",
            "RangeIndex: 9999 entries, 0 to 9998\n",
            "Data columns (total 11 columns):\n",
            " #   Column                Non-Null Count  Dtype  \n",
            "---  ------                --------------  -----  \n",
            " 0   genres                9999 non-null   object \n",
            " 1   title                 9997 non-null   object \n",
            " 2   original_language     9995 non-null   object \n",
            " 3   id                    9999 non-null   object \n",
            " 4   overview              9838 non-null   object \n",
            " 5   popularity            9997 non-null   float64\n",
            " 6   production_companies  9998 non-null   object \n",
            " 7   runtime               9946 non-null   float64\n",
            " 8   spoken_languages      9997 non-null   object \n",
            " 9   vote_average          9997 non-null   float64\n",
            " 10  vote_count            9997 non-null   float64\n",
            "dtypes: float64(4), object(7)\n",
            "memory usage: 859.4+ KB\n"
          ]
        }
      ]
    },
    {
      "cell_type": "code",
      "source": [
        "movies.dropna(inplace = True)"
      ],
      "metadata": {
        "id": "WlnEB0sQQtPO"
      },
      "execution_count": null,
      "outputs": []
    },
    {
      "cell_type": "code",
      "source": [
        "movies.info()"
      ],
      "metadata": {
        "colab": {
          "base_uri": "https://localhost:8080/"
        },
        "id": "CyEdZ02SQvIJ",
        "outputId": "b93255d8-0e9a-41bf-a991-b55bc86ea8ec"
      },
      "execution_count": null,
      "outputs": [
        {
          "output_type": "stream",
          "name": "stdout",
          "text": [
            "<class 'pandas.core.frame.DataFrame'>\n",
            "Int64Index: 9832 entries, 0 to 9998\n",
            "Data columns (total 11 columns):\n",
            " #   Column                Non-Null Count  Dtype  \n",
            "---  ------                --------------  -----  \n",
            " 0   genres                9832 non-null   object \n",
            " 1   title                 9832 non-null   object \n",
            " 2   original_language     9832 non-null   object \n",
            " 3   id                    9832 non-null   object \n",
            " 4   overview              9832 non-null   object \n",
            " 5   popularity            9832 non-null   float64\n",
            " 6   production_companies  9832 non-null   object \n",
            " 7   runtime               9832 non-null   float64\n",
            " 8   spoken_languages      9832 non-null   object \n",
            " 9   vote_average          9832 non-null   float64\n",
            " 10  vote_count            9832 non-null   float64\n",
            "dtypes: float64(4), object(7)\n",
            "memory usage: 921.8+ KB\n"
          ]
        }
      ]
    },
    {
      "cell_type": "code",
      "source": [
        "def convert(obj):\n",
        "    L = []\n",
        "    for i in ast.literal_eval(obj):\n",
        "        L.append(i['name'])\n",
        "    return L\n",
        "movies['genres'] = movies['genres'].apply(convert)\n",
        "movies.head()"
      ],
      "metadata": {
        "colab": {
          "base_uri": "https://localhost:8080/",
          "height": 372
        },
        "id": "C72QBI40Qw2O",
        "outputId": "5fbd44a0-a282-4406-b8f7-a6e074d6c27b"
      },
      "execution_count": null,
      "outputs": [
        {
          "output_type": "execute_result",
          "data": {
            "text/plain": [
              "                                       genres                         title  \\\n",
              "0  [Action, Comedy, Music, Family, Adventure]        Muppet Treasure Island   \n",
              "1                               [Documentary]                       Catwalk   \n",
              "2                                     [Crime]  Headless Body in Topless Bar   \n",
              "3               [Action, Drama, History, War]                    Braveheart   \n",
              "4                              [Crime, Drama]                   Taxi Driver   \n",
              "\n",
              "  original_language     id                                           overview  \\\n",
              "0                en  10874  After telling the story of Flint's last journe...   \n",
              "1                en  89333  A documentary following Christy Turlington and...   \n",
              "2                en  96357  An ex-con holds a group of people hostage in a...   \n",
              "3                en    197  Enraged at the slaughter of Murron, his new br...   \n",
              "4                en    103  A mentally unstable Vietnam War veteran works ...   \n",
              "\n",
              "   popularity                               production_companies  runtime  \\\n",
              "0    6.902423  [{'name': 'Walt Disney Pictures', 'id': 2}, {'...    100.0   \n",
              "1    0.976707                                                 []     95.0   \n",
              "2    0.001346                                                 []    110.0   \n",
              "3   20.755149  [{'name': 'Icon Entertainment International', ...    177.0   \n",
              "4   14.092713  [{'name': 'Columbia Pictures Corporation', 'id...    114.0   \n",
              "\n",
              "                                    spoken_languages  vote_average  vote_count  \n",
              "0           [{'iso_639_1': 'en', 'name': 'English'}]           6.5        93.0  \n",
              "1           [{'iso_639_1': 'en', 'name': 'English'}]           7.0         2.0  \n",
              "2                                                 []           0.0         0.0  \n",
              "3  [{'iso_639_1': 'en', 'name': 'English'}, {'iso...           7.7      3404.0  \n",
              "4  [{'iso_639_1': 'en', 'name': 'English'}, {'iso...           8.1      2632.0  "
            ],
            "text/html": [
              "\n",
              "  <div id=\"df-fdb7c85d-3fef-4c57-a4a6-36a42cf5b496\">\n",
              "    <div class=\"colab-df-container\">\n",
              "      <div>\n",
              "<style scoped>\n",
              "    .dataframe tbody tr th:only-of-type {\n",
              "        vertical-align: middle;\n",
              "    }\n",
              "\n",
              "    .dataframe tbody tr th {\n",
              "        vertical-align: top;\n",
              "    }\n",
              "\n",
              "    .dataframe thead th {\n",
              "        text-align: right;\n",
              "    }\n",
              "</style>\n",
              "<table border=\"1\" class=\"dataframe\">\n",
              "  <thead>\n",
              "    <tr style=\"text-align: right;\">\n",
              "      <th></th>\n",
              "      <th>genres</th>\n",
              "      <th>title</th>\n",
              "      <th>original_language</th>\n",
              "      <th>id</th>\n",
              "      <th>overview</th>\n",
              "      <th>popularity</th>\n",
              "      <th>production_companies</th>\n",
              "      <th>runtime</th>\n",
              "      <th>spoken_languages</th>\n",
              "      <th>vote_average</th>\n",
              "      <th>vote_count</th>\n",
              "    </tr>\n",
              "  </thead>\n",
              "  <tbody>\n",
              "    <tr>\n",
              "      <th>0</th>\n",
              "      <td>[Action, Comedy, Music, Family, Adventure]</td>\n",
              "      <td>Muppet Treasure Island</td>\n",
              "      <td>en</td>\n",
              "      <td>10874</td>\n",
              "      <td>After telling the story of Flint's last journe...</td>\n",
              "      <td>6.902423</td>\n",
              "      <td>[{'name': 'Walt Disney Pictures', 'id': 2}, {'...</td>\n",
              "      <td>100.0</td>\n",
              "      <td>[{'iso_639_1': 'en', 'name': 'English'}]</td>\n",
              "      <td>6.5</td>\n",
              "      <td>93.0</td>\n",
              "    </tr>\n",
              "    <tr>\n",
              "      <th>1</th>\n",
              "      <td>[Documentary]</td>\n",
              "      <td>Catwalk</td>\n",
              "      <td>en</td>\n",
              "      <td>89333</td>\n",
              "      <td>A documentary following Christy Turlington and...</td>\n",
              "      <td>0.976707</td>\n",
              "      <td>[]</td>\n",
              "      <td>95.0</td>\n",
              "      <td>[{'iso_639_1': 'en', 'name': 'English'}]</td>\n",
              "      <td>7.0</td>\n",
              "      <td>2.0</td>\n",
              "    </tr>\n",
              "    <tr>\n",
              "      <th>2</th>\n",
              "      <td>[Crime]</td>\n",
              "      <td>Headless Body in Topless Bar</td>\n",
              "      <td>en</td>\n",
              "      <td>96357</td>\n",
              "      <td>An ex-con holds a group of people hostage in a...</td>\n",
              "      <td>0.001346</td>\n",
              "      <td>[]</td>\n",
              "      <td>110.0</td>\n",
              "      <td>[]</td>\n",
              "      <td>0.0</td>\n",
              "      <td>0.0</td>\n",
              "    </tr>\n",
              "    <tr>\n",
              "      <th>3</th>\n",
              "      <td>[Action, Drama, History, War]</td>\n",
              "      <td>Braveheart</td>\n",
              "      <td>en</td>\n",
              "      <td>197</td>\n",
              "      <td>Enraged at the slaughter of Murron, his new br...</td>\n",
              "      <td>20.755149</td>\n",
              "      <td>[{'name': 'Icon Entertainment International', ...</td>\n",
              "      <td>177.0</td>\n",
              "      <td>[{'iso_639_1': 'en', 'name': 'English'}, {'iso...</td>\n",
              "      <td>7.7</td>\n",
              "      <td>3404.0</td>\n",
              "    </tr>\n",
              "    <tr>\n",
              "      <th>4</th>\n",
              "      <td>[Crime, Drama]</td>\n",
              "      <td>Taxi Driver</td>\n",
              "      <td>en</td>\n",
              "      <td>103</td>\n",
              "      <td>A mentally unstable Vietnam War veteran works ...</td>\n",
              "      <td>14.092713</td>\n",
              "      <td>[{'name': 'Columbia Pictures Corporation', 'id...</td>\n",
              "      <td>114.0</td>\n",
              "      <td>[{'iso_639_1': 'en', 'name': 'English'}, {'iso...</td>\n",
              "      <td>8.1</td>\n",
              "      <td>2632.0</td>\n",
              "    </tr>\n",
              "  </tbody>\n",
              "</table>\n",
              "</div>\n",
              "      <button class=\"colab-df-convert\" onclick=\"convertToInteractive('df-fdb7c85d-3fef-4c57-a4a6-36a42cf5b496')\"\n",
              "              title=\"Convert this dataframe to an interactive table.\"\n",
              "              style=\"display:none;\">\n",
              "        \n",
              "  <svg xmlns=\"http://www.w3.org/2000/svg\" height=\"24px\"viewBox=\"0 0 24 24\"\n",
              "       width=\"24px\">\n",
              "    <path d=\"M0 0h24v24H0V0z\" fill=\"none\"/>\n",
              "    <path d=\"M18.56 5.44l.94 2.06.94-2.06 2.06-.94-2.06-.94-.94-2.06-.94 2.06-2.06.94zm-11 1L8.5 8.5l.94-2.06 2.06-.94-2.06-.94L8.5 2.5l-.94 2.06-2.06.94zm10 10l.94 2.06.94-2.06 2.06-.94-2.06-.94-.94-2.06-.94 2.06-2.06.94z\"/><path d=\"M17.41 7.96l-1.37-1.37c-.4-.4-.92-.59-1.43-.59-.52 0-1.04.2-1.43.59L10.3 9.45l-7.72 7.72c-.78.78-.78 2.05 0 2.83L4 21.41c.39.39.9.59 1.41.59.51 0 1.02-.2 1.41-.59l7.78-7.78 2.81-2.81c.8-.78.8-2.07 0-2.86zM5.41 20L4 18.59l7.72-7.72 1.47 1.35L5.41 20z\"/>\n",
              "  </svg>\n",
              "      </button>\n",
              "      \n",
              "  <style>\n",
              "    .colab-df-container {\n",
              "      display:flex;\n",
              "      flex-wrap:wrap;\n",
              "      gap: 12px;\n",
              "    }\n",
              "\n",
              "    .colab-df-convert {\n",
              "      background-color: #E8F0FE;\n",
              "      border: none;\n",
              "      border-radius: 50%;\n",
              "      cursor: pointer;\n",
              "      display: none;\n",
              "      fill: #1967D2;\n",
              "      height: 32px;\n",
              "      padding: 0 0 0 0;\n",
              "      width: 32px;\n",
              "    }\n",
              "\n",
              "    .colab-df-convert:hover {\n",
              "      background-color: #E2EBFA;\n",
              "      box-shadow: 0px 1px 2px rgba(60, 64, 67, 0.3), 0px 1px 3px 1px rgba(60, 64, 67, 0.15);\n",
              "      fill: #174EA6;\n",
              "    }\n",
              "\n",
              "    [theme=dark] .colab-df-convert {\n",
              "      background-color: #3B4455;\n",
              "      fill: #D2E3FC;\n",
              "    }\n",
              "\n",
              "    [theme=dark] .colab-df-convert:hover {\n",
              "      background-color: #434B5C;\n",
              "      box-shadow: 0px 1px 3px 1px rgba(0, 0, 0, 0.15);\n",
              "      filter: drop-shadow(0px 1px 2px rgba(0, 0, 0, 0.3));\n",
              "      fill: #FFFFFF;\n",
              "    }\n",
              "  </style>\n",
              "\n",
              "      <script>\n",
              "        const buttonEl =\n",
              "          document.querySelector('#df-fdb7c85d-3fef-4c57-a4a6-36a42cf5b496 button.colab-df-convert');\n",
              "        buttonEl.style.display =\n",
              "          google.colab.kernel.accessAllowed ? 'block' : 'none';\n",
              "\n",
              "        async function convertToInteractive(key) {\n",
              "          const element = document.querySelector('#df-fdb7c85d-3fef-4c57-a4a6-36a42cf5b496');\n",
              "          const dataTable =\n",
              "            await google.colab.kernel.invokeFunction('convertToInteractive',\n",
              "                                                     [key], {});\n",
              "          if (!dataTable) return;\n",
              "\n",
              "          const docLinkHtml = 'Like what you see? Visit the ' +\n",
              "            '<a target=\"_blank\" href=https://colab.research.google.com/notebooks/data_table.ipynb>data table notebook</a>'\n",
              "            + ' to learn more about interactive tables.';\n",
              "          element.innerHTML = '';\n",
              "          dataTable['output_type'] = 'display_data';\n",
              "          await google.colab.output.renderOutput(dataTable, element);\n",
              "          const docLink = document.createElement('div');\n",
              "          docLink.innerHTML = docLinkHtml;\n",
              "          element.appendChild(docLink);\n",
              "        }\n",
              "      </script>\n",
              "    </div>\n",
              "  </div>\n",
              "  "
            ]
          },
          "metadata": {},
          "execution_count": 11
        }
      ]
    },
    {
      "cell_type": "code",
      "source": [
        "movies['production_companies'] = movies['production_companies'].apply(convert)"
      ],
      "metadata": {
        "id": "fRSvlkrEQyxD"
      },
      "execution_count": null,
      "outputs": []
    },
    {
      "cell_type": "code",
      "source": [
        "movies['spoken_languages'] = movies['spoken_languages'].apply(convert)"
      ],
      "metadata": {
        "id": "PURwUapwQ1LL"
      },
      "execution_count": null,
      "outputs": []
    },
    {
      "cell_type": "code",
      "source": [
        "movies['overview'] = movies['overview'].apply(lambda x:x.split())"
      ],
      "metadata": {
        "id": "GX-l49KAQ28q"
      },
      "execution_count": null,
      "outputs": []
    },
    {
      "cell_type": "code",
      "source": [
        "movies['genres'] = movies['genres'].apply(lambda x:[i.replace(\" \", \"\") for i in x])\n",
        "movies['overview'] = movies['overview'].apply(lambda x:[i.replace(\" \", \"\") for i in x])\n",
        "#movies['title'] = movies['title'].apply(lambda x:[i.replace(\" \", \"\") for i in x])\n",
        "movies['production_companies'] = movies['production_companies'].apply(lambda x:[i.replace(\" \", \"\") for i in x])"
      ],
      "metadata": {
        "id": "cRco3vhKQ4tI"
      },
      "execution_count": null,
      "outputs": []
    },
    {
      "cell_type": "code",
      "source": [
        "movies['tags'] = movies['genres'] + movies['overview'] + movies['production_companies']"
      ],
      "metadata": {
        "id": "fSmHIpYPQ635"
      },
      "execution_count": null,
      "outputs": []
    },
    {
      "cell_type": "code",
      "source": [
        "new_df = movies[['id', 'title', 'tags', 'original_language', 'popularity', 'runtime', 'spoken_languages', 'vote_average', 'vote_count']]\n",
        "new_df['tags'] = new_df['tags'].apply(lambda x:\" \".join(x))\n",
        "# At every space join x (basically list to string)\n",
        "new_df.head()\n",
        "# Apply stemming\n",
        "import nltk\n",
        "# library for natural lang processing\n",
        "from nltk.stem.porter import PorterStemmer\n",
        "tic=time.perf_counter()\n",
        "ps = PorterStemmer()\n",
        "def stem(text):\n",
        "    y = []\n",
        "    for i in text.split():\n",
        "        y.append(ps.stem(i))\n",
        "# We create a list and we append in the list all the root values of i        \n",
        "    return \" \".join(y)\n",
        "# Convert list to string\n",
        "new_df['tags'] = new_df['tags'].apply(stem)\n",
        "print(new_df)"
      ],
      "metadata": {
        "colab": {
          "base_uri": "https://localhost:8080/"
        },
        "id": "Xh94ZCaDQ9cF",
        "outputId": "21a04b68-3e66-4272-acc6-bdd382ca9257"
      },
      "execution_count": null,
      "outputs": [
        {
          "output_type": "stream",
          "name": "stderr",
          "text": [
            "/usr/local/lib/python3.7/dist-packages/ipykernel_launcher.py:2: SettingWithCopyWarning: \n",
            "A value is trying to be set on a copy of a slice from a DataFrame.\n",
            "Try using .loc[row_indexer,col_indexer] = value instead\n",
            "\n",
            "See the caveats in the documentation: https://pandas.pydata.org/pandas-docs/stable/user_guide/indexing.html#returning-a-view-versus-a-copy\n",
            "  \n"
          ]
        },
        {
          "output_type": "stream",
          "name": "stdout",
          "text": [
            "          id                                         title  \\\n",
            "0      10874                        Muppet Treasure Island   \n",
            "1      89333                                       Catwalk   \n",
            "2      96357                  Headless Body in Topless Bar   \n",
            "3        197                                    Braveheart   \n",
            "4        103                                   Taxi Driver   \n",
            "...      ...                                           ...   \n",
            "9994   61656                          Meet Prince Charming   \n",
            "9995   58106                             The Boy Next Door   \n",
            "9996   44848  The Decline of Western Civilization Part III   \n",
            "9997  175005                                 The Grim Game   \n",
            "9998   20381             The Hitcher II: I've Been Waiting   \n",
            "\n",
            "                                                   tags original_language  \\\n",
            "0     action comedi music famili adventur after tell...                en   \n",
            "1     documentari A documentari follow christi turli...                en   \n",
            "2     crime An ex-con hold a group of peopl hostag i...                en   \n",
            "3     action drama histori war enrag at the slaughte...                en   \n",
            "4     crime drama A mental unstabl vietnam war veter...                en   \n",
            "...                                                 ...               ...   \n",
            "9994  jonathan 'jack' harri is a waiter, who hope to...                en   \n",
            "9995  crime mysteri thriller A novelist (dina meyer)...                en   \n",
            "9996  documentari the declin of western civil iii is...                en   \n",
            "9997  adventur drama jail unjustli for a murder he d...                en   \n",
            "9998  action thriller A sadist serial killer terror ...                en   \n",
            "\n",
            "      popularity  runtime               spoken_languages  vote_average  \\\n",
            "0       6.902423    100.0                      [English]           6.5   \n",
            "1       0.976707     95.0                      [English]           7.0   \n",
            "2       0.001346    110.0                             []           0.0   \n",
            "3      20.755149    177.0  [English, FranÃ§ais, Latin, ]           7.7   \n",
            "4      14.092713    114.0            [English, EspaÃ±ol]           8.1   \n",
            "...          ...      ...                            ...           ...   \n",
            "9994    0.406123     94.0                             []           5.0   \n",
            "9995    0.675401      0.0                      [English]           5.3   \n",
            "9996    0.836602     86.0                      [English]           6.6   \n",
            "9997    0.078576     71.0                             []           0.0   \n",
            "9998    3.617635     93.0                      [English]           4.3   \n",
            "\n",
            "      vote_count  \n",
            "0           93.0  \n",
            "1            2.0  \n",
            "2            0.0  \n",
            "3         3404.0  \n",
            "4         2632.0  \n",
            "...          ...  \n",
            "9994         3.0  \n",
            "9995        10.0  \n",
            "9996         8.0  \n",
            "9997         0.0  \n",
            "9998        19.0  \n",
            "\n",
            "[9832 rows x 9 columns]\n"
          ]
        },
        {
          "output_type": "stream",
          "name": "stderr",
          "text": [
            "/usr/local/lib/python3.7/dist-packages/ipykernel_launcher.py:18: SettingWithCopyWarning: \n",
            "A value is trying to be set on a copy of a slice from a DataFrame.\n",
            "Try using .loc[row_indexer,col_indexer] = value instead\n",
            "\n",
            "See the caveats in the documentation: https://pandas.pydata.org/pandas-docs/stable/user_guide/indexing.html#returning-a-view-versus-a-copy\n"
          ]
        }
      ]
    },
    {
      "cell_type": "code",
      "source": [
        "from sklearn.feature_extraction.text import CountVectorizer\n",
        "# we import this with two hyperparameters max_features and stop_words\n",
        "cv = CountVectorizer(max_features = 5000, stop_words = 'english')\n",
        "vectors = cv.fit_transform(new_df['tags']).toarray()\n",
        "# convert new_df tags to numpy array"
      ],
      "metadata": {
        "id": "NvtonB1YQ_U-"
      },
      "execution_count": null,
      "outputs": []
    },
    {
      "cell_type": "code",
      "source": [
        "from sklearn.metrics.pairwise import cosine_similarity"
      ],
      "metadata": {
        "id": "7mqy4c_NRBbx"
      },
      "execution_count": null,
      "outputs": []
    },
    {
      "cell_type": "code",
      "source": [
        "similarity = cosine_similarity(vectors)\n",
        "toc=time.perf_counter()"
      ],
      "metadata": {
        "id": "fvCPV1-IREio"
      },
      "execution_count": null,
      "outputs": []
    },
    {
      "cell_type": "code",
      "source": [
        "similarity[1]"
      ],
      "metadata": {
        "colab": {
          "base_uri": "https://localhost:8080/"
        },
        "id": "dhC3yy8zRG0Y",
        "outputId": "a5c804c6-c411-4104-c969-e43b8658320a"
      },
      "execution_count": null,
      "outputs": [
        {
          "output_type": "execute_result",
          "data": {
            "text/plain": [
              "array([0.        , 1.        , 0.        , ..., 0.12712321, 0.        ,\n",
              "       0.        ])"
            ]
          },
          "metadata": {},
          "execution_count": 32
        }
      ]
    },
    {
      "cell_type": "code",
      "source": [
        "if similarity.size != 0:\n",
        "    print('no error')\n",
        "else :\n",
        "    print('error')"
      ],
      "metadata": {
        "colab": {
          "base_uri": "https://localhost:8080/"
        },
        "id": "aP01xjB0RKAO",
        "outputId": "8d877d26-1cb2-40f0-8cab-6c020b3a5ed1"
      },
      "execution_count": null,
      "outputs": [
        {
          "output_type": "stream",
          "name": "stdout",
          "text": [
            "no error\n"
          ]
        }
      ]
    },
    {
      "cell_type": "code",
      "source": [
        "sorted((enumerate(similarity[100])), reverse = True, key = lambda x:x[1])[1:6]\n",
        "# sorting on the basis of similarity with movie of index position 0.\n",
        "# reversed\n",
        "# enumerate to grab the index position while sorting and convert to list (converted to list of tuples)\n",
        "# lambda for sorting on basis of second number."
      ],
      "metadata": {
        "colab": {
          "base_uri": "https://localhost:8080/"
        },
        "id": "Ycy5HWDfRMMM",
        "outputId": "ae5e4d47-5d7b-4ecb-feea-30e5d5ff5c56"
      },
      "execution_count": null,
      "outputs": [
        {
          "output_type": "execute_result",
          "data": {
            "text/plain": [
              "[(6113, 0.271539426475639),\n",
              " (3090, 0.23249527748763854),\n",
              " (4832, 0.22360679774997894),\n",
              " (6938, 0.22225022225033336),\n",
              " (2936, 0.22097086912079608)]"
            ]
          },
          "metadata": {},
          "execution_count": 34
        }
      ]
    },
    {
      "cell_type": "code",
      "source": [
        "def recommend(movie):\n",
        "    movie_index = new_df[new_df['title'] == movie].index[0]\n",
        "# this fetches the index position of the movie which is chosen by the user\n",
        "    distance = similarity[movie_index]\n",
        "# goes to in 14\n",
        "    movies_list = sorted((enumerate(distance)), reverse = True, key = lambda x:x[1])[1:6]\n",
        "# Sort the distances goes to in 15  \n",
        "    for i in movies_list:\n",
        "        print(new_df.iloc[i[0]].title)"
      ],
      "metadata": {
        "id": "rjyKyBcOROr4"
      },
      "execution_count": null,
      "outputs": []
    },
    {
      "cell_type": "code",
      "source": [
        "t1=time.perf_counter()\n",
        "recommend('Happiness Is in the Field')\n",
        "t2=time.perf_counter()"
      ],
      "metadata": {
        "colab": {
          "base_uri": "https://localhost:8080/"
        },
        "id": "5ODFA9OqRQ-_",
        "outputId": "8f38eb56-bda4-4f65-9805-3fc9ed6ad44f"
      },
      "execution_count": null,
      "outputs": [
        {
          "output_type": "stream",
          "name": "stdout",
          "text": [
            "I'm Staying\n",
            "Odd Obsession\n",
            "The Snows of Kilimanjaro\n",
            "The Box\n",
            "Presumed Guilty\n"
          ]
        }
      ]
    },
    {
      "cell_type": "code",
      "source": [
        "pred_time=tic-toc\n",
        "pred_time"
      ],
      "metadata": {
        "colab": {
          "base_uri": "https://localhost:8080/"
        },
        "id": "KKPZVLyJvfJZ",
        "outputId": "ca33ec3b-6a60-41da-dc14-50487f1cd744"
      },
      "execution_count": null,
      "outputs": [
        {
          "output_type": "execute_result",
          "data": {
            "text/plain": [
              "-35.09707224099998"
            ]
          },
          "metadata": {},
          "execution_count": 37
        }
      ]
    },
    {
      "cell_type": "code",
      "source": [
        "pred=t2-t1\n",
        "pred"
      ],
      "metadata": {
        "colab": {
          "base_uri": "https://localhost:8080/"
        },
        "id": "QDD45oUXm8jc",
        "outputId": "ffff3261-3902-4f8a-e348-d6002d675f9a"
      },
      "execution_count": null,
      "outputs": [
        {
          "output_type": "execute_result",
          "data": {
            "text/plain": [
              "0.017211943000006613"
            ]
          },
          "metadata": {},
          "execution_count": 38
        }
      ]
    }
  ]
}